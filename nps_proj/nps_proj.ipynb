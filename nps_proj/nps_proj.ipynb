{
 "cells": [
  {
   "cell_type": "code",
   "execution_count": 188,
   "metadata": {
    "ExecuteTime": {
     "end_time": "2019-06-19T19:58:21.221446Z",
     "start_time": "2019-06-19T19:58:21.214162Z"
    }
   },
   "outputs": [],
   "source": [
    "import numpy as np \n",
    "import pandas as pd\n",
    "import matplotlib.pyplot as plt\n",
    "\n",
    "\n",
    "df = pd.read_csv('./2017/feedback.csv')"
   ]
  },
  {
   "cell_type": "code",
   "execution_count": 189,
   "metadata": {
    "ExecuteTime": {
     "end_time": "2019-06-19T19:58:21.723783Z",
     "start_time": "2019-06-19T19:58:21.718482Z"
    }
   },
   "outputs": [],
   "source": [
    "# Clean up data a little bit to make next steps easier\n",
    "# Delete rows with Rating (Num) == \"ERROR!\"\n",
    "df = df.drop([1310,1322,1411], axis=0)\n",
    "\n",
    "# Change Rating (Num) data type to int\n",
    "df[\"Rating (Num)\"] = pd.to_numeric(df[\"Rating (Num)\"])\n",
    "\n",
    "# strip space from schedule pacing\n",
    "# df.rename(index=str, columns={\"Schedule Pacing\": \"ScheduleSpacing\"})\n"
   ]
  },
  {
   "cell_type": "code",
   "execution_count": 190,
   "metadata": {
    "ExecuteTime": {
     "end_time": "2019-06-19T19:58:23.530120Z",
     "start_time": "2019-06-19T19:58:23.519551Z"
    }
   },
   "outputs": [
    {
     "data": {
      "text/html": [
       "<div>\n",
       "<style scoped>\n",
       "    .dataframe tbody tr th:only-of-type {\n",
       "        vertical-align: middle;\n",
       "    }\n",
       "\n",
       "    .dataframe tbody tr th {\n",
       "        vertical-align: top;\n",
       "    }\n",
       "\n",
       "    .dataframe thead th {\n",
       "        text-align: right;\n",
       "    }\n",
       "</style>\n",
       "<table border=\"1\" class=\"dataframe\">\n",
       "  <thead>\n",
       "    <tr style=\"text-align: right;\">\n",
       "      <th></th>\n",
       "      <th>ID</th>\n",
       "      <th>Location</th>\n",
       "      <th>Track</th>\n",
       "      <th>Week</th>\n",
       "      <th>Rating (Num)</th>\n",
       "      <th>SchedulePacing</th>\n",
       "    </tr>\n",
       "  </thead>\n",
       "  <tbody>\n",
       "    <tr>\n",
       "      <th>0</th>\n",
       "      <td>134</td>\n",
       "      <td>San Francisco</td>\n",
       "      <td>Apps, Explorer</td>\n",
       "      <td>Week 1</td>\n",
       "      <td>3</td>\n",
       "      <td>Just right</td>\n",
       "    </tr>\n",
       "    <tr>\n",
       "      <th>1</th>\n",
       "      <td>36</td>\n",
       "      <td>Los Angeles</td>\n",
       "      <td>Apps</td>\n",
       "      <td>Week 1</td>\n",
       "      <td>4</td>\n",
       "      <td>A little too fast</td>\n",
       "    </tr>\n",
       "    <tr>\n",
       "      <th>2</th>\n",
       "      <td>117</td>\n",
       "      <td>San Francisco</td>\n",
       "      <td>Games</td>\n",
       "      <td>Week 1</td>\n",
       "      <td>4</td>\n",
       "      <td>Way too slow</td>\n",
       "    </tr>\n",
       "    <tr>\n",
       "      <th>3</th>\n",
       "      <td>253</td>\n",
       "      <td>NaN</td>\n",
       "      <td>NaN</td>\n",
       "      <td>Week 2</td>\n",
       "      <td>4</td>\n",
       "      <td>A little too fast</td>\n",
       "    </tr>\n",
       "    <tr>\n",
       "      <th>4</th>\n",
       "      <td>350</td>\n",
       "      <td>New York City</td>\n",
       "      <td>Apps, Explorer</td>\n",
       "      <td>Week 1</td>\n",
       "      <td>4</td>\n",
       "      <td>Just right</td>\n",
       "    </tr>\n",
       "  </tbody>\n",
       "</table>\n",
       "</div>"
      ],
      "text/plain": [
       "    ID       Location           Track    Week  Rating (Num)     SchedulePacing\n",
       "0  134  San Francisco  Apps, Explorer  Week 1             3         Just right\n",
       "1   36    Los Angeles            Apps  Week 1             4  A little too fast\n",
       "2  117  San Francisco           Games  Week 1             4       Way too slow\n",
       "3  253            NaN             NaN  Week 2             4  A little too fast\n",
       "4  350  New York City  Apps, Explorer  Week 1             4         Just right"
      ]
     },
     "execution_count": 190,
     "metadata": {},
     "output_type": "execute_result"
    }
   ],
   "source": [
    "# df.rename(index=str, columns={\"Schedule Pacing\": \"SchedulePacing\"})\n",
    "df.rename(columns={\"Schedule Pacing\": \"SchedulePacing\"}, inplace=True)\n",
    "df.head()\n"
   ]
  },
  {
   "cell_type": "markdown",
   "metadata": {},
   "source": [
    "### How many more promoters are there than detractors across our 2017 data?"
   ]
  },
  {
   "cell_type": "code",
   "execution_count": 161,
   "metadata": {
    "ExecuteTime": {
     "end_time": "2019-06-19T17:09:13.511505Z",
     "start_time": "2019-06-19T17:09:13.505479Z"
    }
   },
   "outputs": [
    {
     "data": {
      "text/plain": [
       "639"
      ]
     },
     "execution_count": 161,
     "metadata": {},
     "output_type": "execute_result"
    }
   ],
   "source": [
    "prom = (df[df[\"Rating (Num)\"] >= 9])\n",
    "det = (df[df[\"Rating (Num)\"] <= 6])\n",
    "len(prom) - len(det)\n",
    "# There are 639 more promoters than detractors in\n",
    "# 2017 data"
   ]
  },
  {
   "cell_type": "markdown",
   "metadata": {
    "ExecuteTime": {
     "end_time": "2019-06-18T17:26:08.350705Z",
     "start_time": "2019-06-18T17:26:08.334153Z"
    }
   },
   "source": [
    "### Which track boasts the best promoter-to-detractor ratio?"
   ]
  },
  {
   "cell_type": "code",
   "execution_count": 162,
   "metadata": {
    "ExecuteTime": {
     "end_time": "2019-06-19T17:09:14.693356Z",
     "start_time": "2019-06-19T17:09:14.689398Z"
    }
   },
   "outputs": [
    {
     "data": {
      "text/plain": [
       "array(['Apps, Explorer', 'Apps', 'Games', nan, 'VR', 'Games, Explorer'],\n",
       "      dtype=object)"
      ]
     },
     "execution_count": 162,
     "metadata": {},
     "output_type": "execute_result"
    }
   ],
   "source": [
    "# We can see below that we have 4 different tracks\n",
    "# Since \"Explorer\" seems to be an elective track,\n",
    "# We will only consider Apps, Games, and VR as main tracks\n",
    "# We will not consider the nan entries\n",
    "df.Track.unique()"
   ]
  },
  {
   "cell_type": "code",
   "execution_count": 163,
   "metadata": {
    "ExecuteTime": {
     "end_time": "2019-06-19T17:09:15.228338Z",
     "start_time": "2019-06-19T17:09:15.220506Z"
    },
    "code_folding": []
   },
   "outputs": [],
   "source": [
    "# Create new subset dataframes of apps, games, and VR\n",
    "apps = df[(df['Track'] =='Apps, Explorer') | (df['Track'] == 'Apps')]\n",
    "games = df[(df['Track'] =='Games, Explorer') | (df['Track'] == 'Games')]\n",
    "VR = (df[df[\"Track\"] == 'VR'])\n",
    "tracks = [apps, games, VR]"
   ]
  },
  {
   "cell_type": "code",
   "execution_count": 200,
   "metadata": {
    "ExecuteTime": {
     "end_time": "2019-06-19T20:12:41.106814Z",
     "start_time": "2019-06-19T20:12:41.097100Z"
    }
   },
   "outputs": [
    {
     "data": {
      "text/plain": [
       "[0.838351822503962, 0.9479768786127167, 0.9583333333333334]"
      ]
     },
     "execution_count": 200,
     "metadata": {},
     "output_type": "execute_result"
    }
   ],
   "source": [
    "# The array below indicates that the Games track has\n",
    "# the highest promoter to detractor ratio (18.2)\n",
    "ratios = []\n",
    "for track in tracks:\n",
    "    prom = (track[track[\"Rating (Num)\"] >= 9])\n",
    "    det = (track[track[\"Rating (Num)\"] <= 6])\n",
    "    ratio = len(prom) / (len(prom) + len(det))\n",
    "    ratios.append(ratio)\n",
    "ratios"
   ]
  },
  {
   "cell_type": "code",
   "execution_count": 201,
   "metadata": {
    "ExecuteTime": {
     "end_time": "2019-06-19T20:12:42.050155Z",
     "start_time": "2019-06-19T20:12:41.926896Z"
    }
   },
   "outputs": [
    {
     "data": {
      "text/plain": [
       "Text(0.5, 1.0, 'Tracks vs Promoters/Detractors %')"
      ]
     },
     "execution_count": 201,
     "metadata": {},
     "output_type": "execute_result"
    },
    {
     "data": {
      "image/png": "[encoded data removed]",
      "text/plain": [
       "<Figure size 432x288 with 1 Axes>"
      ]
     },
     "metadata": {
      "needs_background": "light"
     },
     "output_type": "display_data"
    }
   ],
   "source": [
    "ratios_dict = {}\n",
    "ratios_dict['Apps, Explorer'] = ratios[0]\n",
    "ratios_dict['Games, Explorer'] = ratios[1]\n",
    "ratios_dict['VR'] = ratios[2]\n",
    "\n",
    "plt.bar(range(len(ratios_dict)), list(ratios_dict.values()), align='center')\n",
    "plt.xticks(range(len(ratios_dict)), list(ratios_dict.keys()))\n",
    "plt.ylim(0.75, 1)\n",
    "plt.title('Tracks vs Promoters/Detractors %')"
   ]
  },
  {
   "cell_type": "markdown",
   "metadata": {
    "ExecuteTime": {
     "end_time": "2019-06-19T03:05:04.679527Z",
     "start_time": "2019-06-19T03:05:04.564694Z"
    }
   },
   "source": [
    "ratios_dict = {}\n",
    "ratios_dict['Apps, Explorer'] = ratios[0]\n",
    "ratios_dict['Games, Explorer'] = ratios[1]\n",
    "ratios_dict['VR'] = ratios[2]\n",
    "\n",
    "plt.bar(range(len(ratios_dict)), list(ratios_dict.values()), align='center')\n",
    "plt.xticks(range(len(ratios_dict)), list(ratios_dict.keys()))\n",
    "plt.ylim(0.75, 1)\n",
    "plt.title('Tracks vs Promoters/Detriment')"
   ]
  },
  {
   "cell_type": "code",
   "execution_count": 165,
   "metadata": {
    "ExecuteTime": {
     "end_time": "2019-06-19T17:09:17.246907Z",
     "start_time": "2019-06-19T17:09:17.244835Z"
    }
   },
   "outputs": [],
   "source": [
    "# The percentage of approval ratings for the apps program is much lower than\n",
    "# the other programs.  This could simply be because it is more fun and\n",
    "# immediately rewarding to build games and VR instead of simple crud apps,\n",
    "# however perhaps the apps program could be reconsidered to have the approval\n",
    "# rating match the other programs"
   ]
  },
  {
   "cell_type": "markdown",
   "metadata": {},
   "source": [
    "### Does the Explorer elective track improve the ratings of the core tracks?"
   ]
  },
  {
   "cell_type": "code",
   "execution_count": 166,
   "metadata": {
    "ExecuteTime": {
     "end_time": "2019-06-19T17:09:19.327546Z",
     "start_time": "2019-06-19T17:09:19.320775Z"
    }
   },
   "outputs": [],
   "source": [
    "expl_app = (df[df[\"Track\"] == 'Apps, Explorer'])\n",
    "only_apps = (df[df[\"Track\"] == 'Apps'])\n",
    "expl_games = (df[df[\"Track\"] == 'Games, Explorer'])\n",
    "only_games = (df[df[\"Track\"] == 'Games'])"
   ]
  },
  {
   "cell_type": "code",
   "execution_count": 167,
   "metadata": {
    "ExecuteTime": {
     "end_time": "2019-06-19T17:09:19.946211Z",
     "start_time": "2019-06-19T17:09:19.940863Z"
    }
   },
   "outputs": [
    {
     "data": {
      "text/plain": [
       "{'Explore and Apps': 8.116071428571429,\n",
       " 'Only Apps': 8.357060849598163,\n",
       " 'Explore and Games': 9.0,\n",
       " 'Only Games': 8.745192307692308}"
      ]
     },
     "execution_count": 167,
     "metadata": {},
     "output_type": "execute_result"
    }
   ],
   "source": [
    "means = {}\n",
    "means[\"Explore and Apps\"] = expl_app[\"Rating (Num)\"].mean()\n",
    "means[\"Only Apps\"] = only_apps[\"Rating (Num)\"].mean()\n",
    "means[\"Explore and Games\"] = expl_games[\"Rating (Num)\"].mean()\n",
    "means[\"Only Games\"] = only_games[\"Rating (Num)\"].mean()\n",
    "means\n"
   ]
  },
  {
   "cell_type": "code",
   "execution_count": 168,
   "metadata": {
    "ExecuteTime": {
     "end_time": "2019-06-19T17:09:20.819742Z",
     "start_time": "2019-06-19T17:09:20.685091Z"
    },
    "scrolled": true
   },
   "outputs": [
    {
     "data": {
      "text/plain": [
       "Text(0.5, 1.0, 'Tracks vs Ratings')"
      ]
     },
     "execution_count": 168,
     "metadata": {},
     "output_type": "execute_result"
    },
    {
     "data": {
      "image/png": "[encoded data removed]",
      "text/plain": [
       "<Figure size 432x288 with 1 Axes>"
      ]
     },
     "metadata": {
      "needs_background": "light"
     },
     "output_type": "display_data"
    }
   ],
   "source": [
    "plt.bar(range(len(means)), list(means.values()), align='center')\n",
    "plt.xticks(range(len(means)), list(means.keys()))\n",
    "plt.ylim(7.5, 9.5)\n",
    "plt.title('Tracks vs Ratings')"
   ]
  },
  {
   "cell_type": "code",
   "execution_count": 169,
   "metadata": {
    "ExecuteTime": {
     "end_time": "2019-06-19T17:09:21.427077Z",
     "start_time": "2019-06-19T17:09:21.425028Z"
    }
   },
   "outputs": [],
   "source": [
    "# As the apps program has a lower approval rating in general, it is difficult\n",
    "# to determine if the explore cirriculum is liked or not.  It seems that in\n",
    "# general the students in the game track are simply more excited about the \n",
    "# cirriculum than those in the app track."
   ]
  },
  {
   "cell_type": "markdown",
   "metadata": {},
   "source": [
    "### Does the student experience get better the longer that they are enrolled at the summer academy?"
   ]
  },
  {
   "cell_type": "code",
   "execution_count": 170,
   "metadata": {
    "ExecuteTime": {
     "end_time": "2019-06-19T17:09:22.765628Z",
     "start_time": "2019-06-19T17:09:22.752580Z"
    },
    "scrolled": false
   },
   "outputs": [
    {
     "data": {
      "text/plain": [
       "{'Week 1': 8.26736111111111,\n",
       " 'Week 2': 8.347826086956522,\n",
       " 'Week 3': 8.522821576763485,\n",
       " 'Week 4': 8.33160621761658,\n",
       " 'Week 5': 8.441340782122905,\n",
       " 'Week 6': 8.541666666666666,\n",
       " 'Week 7': 8.6,\n",
       " 'Week 8': 9.11111111111111}"
      ]
     },
     "execution_count": 170,
     "metadata": {},
     "output_type": "execute_result"
    }
   ],
   "source": [
    "# To answer this question, we will take the mean\n",
    "# rating value for each week.  One problem with this\n",
    "# method, is that we are not accounting for dissatisfied\n",
    "# students leaving the program.\n",
    "\n",
    "# Here, we can see, that generally the student experience got better with\n",
    "# more time spent in the summer academy\n",
    "weeks = df.Week.unique()\n",
    "means={}\n",
    "for week in sorted(weeks):\n",
    "    df_week = (df[df[\"Week\"] == week])\n",
    "    means[week] = df_week[\"Rating (Num)\"].mean()\n",
    "means"
   ]
  },
  {
   "cell_type": "code",
   "execution_count": 171,
   "metadata": {
    "ExecuteTime": {
     "end_time": "2019-06-19T17:09:23.583753Z",
     "start_time": "2019-06-19T17:09:23.468986Z"
    }
   },
   "outputs": [
    {
     "data": {
      "image/png": "[encoded data removed]",
      "text/plain": [
       "<Figure size 432x288 with 1 Axes>"
      ]
     },
     "metadata": {
      "needs_background": "light"
     },
     "output_type": "display_data"
    }
   ],
   "source": [
    "plt.plot(range(len(means)), list(means.values()))\n",
    "plt.xticks(range(len(means)), list(means.keys()))\n",
    "\n",
    "# axes = plt.gca()\n",
    "# axes.set_ylim([7.5, 9.5])\n",
    "\n",
    "# plt.plot instead of bars\n",
    "plt.title('Ratings by week')\n",
    "plt.ylim(7.5, 9.5)\n",
    "plt.show()"
   ]
  },
  {
   "cell_type": "code",
   "execution_count": 172,
   "metadata": {
    "ExecuteTime": {
     "end_time": "2019-06-19T17:09:24.243687Z",
     "start_time": "2019-06-19T17:09:24.241337Z"
    }
   },
   "outputs": [],
   "source": [
    "# Although the data shows a slight slump in the week 4 cirriculum, in general,\n",
    "# students seem to appreciate the cirriculum more as the spend more time in \n",
    "# the cirriculum"
   ]
  },
  {
   "cell_type": "markdown",
   "metadata": {},
   "source": [
    "### Does student satisfaction vary by location?"
   ]
  },
  {
   "cell_type": "code",
   "execution_count": 173,
   "metadata": {
    "ExecuteTime": {
     "end_time": "2019-06-19T17:09:25.517936Z",
     "start_time": "2019-06-19T17:09:25.500854Z"
    }
   },
   "outputs": [
    {
     "data": {
      "text/plain": [
       "{'San Francisco': 8.458333333333334,\n",
       " 'Los Angeles': 8.773584905660377,\n",
       " 'New York City': 8.275757575757575,\n",
       " 'Redwood City': 8.327586206896552,\n",
       " 'Santa Clara': 8.318407960199005,\n",
       " 'Oakland': 8.53191489361702,\n",
       " 'Washington DC': 8.170212765957446,\n",
       " 'Chicago': 8.485714285714286,\n",
       " 'Atlanta': 9.121212121212121,\n",
       " 'Hong Kong': 7.181818181818182,\n",
       " 'Beijing': 8.948717948717949,\n",
       " 'Tokyo': 8.246153846153845}"
      ]
     },
     "execution_count": 173,
     "metadata": {},
     "output_type": "execute_result"
    }
   ],
   "source": [
    "# Once again, we will create a dict with the values being means.\n",
    "# However this time, the means will be determined by location,\n",
    "# instead of week\n",
    "locs = df.Location.dropna().unique()\n",
    "means ={}\n",
    "\n",
    "for loc in locs:\n",
    "    df_loc = (df[df[\"Location\"] == loc])\n",
    "    means[loc] = df_loc[\"Rating (Num)\"].mean()\n",
    "means"
   ]
  },
  {
   "cell_type": "code",
   "execution_count": 174,
   "metadata": {
    "ExecuteTime": {
     "end_time": "2019-06-19T17:09:26.319972Z",
     "start_time": "2019-06-19T17:09:26.188763Z"
    }
   },
   "outputs": [
    {
     "data": {
      "image/png": "[encoded data removed]",
      "text/plain": [
       "<Figure size 432x288 with 1 Axes>"
      ]
     },
     "metadata": {
      "needs_background": "light"
     },
     "output_type": "display_data"
    }
   ],
   "source": [
    "# plt.bar(range(len(means)), list(means.values()), align='center')\n",
    "# plt.xticks(range(len(means)), list(means.keys()))\n",
    "\n",
    "# plt.scatter(list(means.values()), range(len(means)))\n",
    "plt.scatter(list(means.values()), list(means.keys()))\n",
    "\n",
    "\n",
    "axes = plt.gca()\n",
    "axes.set_xlim([6.5, 9.5])\n",
    "\n",
    "plt.title('Ratings for Each Location')\n",
    "plt.show()\n",
    "# There is SOME variation with location, however it is pretty minimal.\n",
    "# The most standout points are Hong Kong (low with 7.2) and Atlanta (high 9.1)\n"
   ]
  },
  {
   "cell_type": "code",
   "execution_count": 175,
   "metadata": {
    "ExecuteTime": {
     "end_time": "2019-06-19T17:09:26.895422Z",
     "start_time": "2019-06-19T17:09:26.892975Z"
    }
   },
   "outputs": [],
   "source": [
    "# Most locations fall into a reasonable data grouping, however Hong Kong is\n",
    "# the obvious outlier.  This issue is possibly due to a language barrier,\n",
    "# however action should be taken the determine the discrepancy.\n",
    "\n",
    "# Other obvious outliers include Atlanta, Beiging, and LA.  The \"language \n",
    "# barrier\" hypothesis is contradicted by the good ratings in Hong Kong.\n",
    "# It is reasonable to assume LA and Atlanta ratings indicate that the\n",
    "# cirriculum is reasonably well received at priority targeted demographic.\n",
    "# \n",
    "# The most important location at this time, was San Francisco.  The ratings\n",
    "# are on the high side of neutral, but \n",
    "#\n",
    "# What are ratings based on course pacing?\n"
   ]
  },
  {
   "cell_type": "markdown",
   "metadata": {},
   "source": [
    "### Which curriculum has the best pacing? "
   ]
  },
  {
   "cell_type": "code",
   "execution_count": 202,
   "metadata": {
    "ExecuteTime": {
     "end_time": "2019-06-19T20:16:26.723356Z",
     "start_time": "2019-06-19T20:14:10.091421Z"
    }
   },
   "outputs": [
    {
     "data": {
      "text/plain": [
       "Rating (Num)\n",
       "0     AxesSubplot(0.125,0.125;0.775x0.755)\n",
       "2     AxesSubplot(0.125,0.125;0.775x0.755)\n",
       "3     AxesSubplot(0.125,0.125;0.775x0.755)\n",
       "4     AxesSubplot(0.125,0.125;0.775x0.755)\n",
       "5     AxesSubplot(0.125,0.125;0.775x0.755)\n",
       "6     AxesSubplot(0.125,0.125;0.775x0.755)\n",
       "7     AxesSubplot(0.125,0.125;0.775x0.755)\n",
       "8     AxesSubplot(0.125,0.125;0.775x0.755)\n",
       "9     AxesSubplot(0.125,0.125;0.775x0.755)\n",
       "10    AxesSubplot(0.125,0.125;0.775x0.755)\n",
       "Name: SchedulePacing, dtype: object"
      ]
     },
     "execution_count": 202,
     "metadata": {},
     "output_type": "execute_result"
    },
    {
     "data": {
      "image/png": "[encoded data removed]",
      "text/plain": [
       "<Figure size 432x288 with 1 Axes>"
      ]
     },
     "metadata": {
      "needs_background": "light"
     },
     "output_type": "display_data"
    }
   ],
   "source": [
    "pace = ['Way too slow', 'A little too slow', 'Just right', 'A little too fast',\n",
    "       'Way too fast']\n",
    "df[df['Track'] == 'Apps'].groupby('Rating (Num)')['SchedulePacing'].hist(bins=16, alpha = .5)"
   ]
  },
  {
   "cell_type": "markdown",
   "metadata": {},
   "source": [
    "### What is total NPS for 2017?"
   ]
  },
  {
   "cell_type": "code",
   "execution_count": 193,
   "metadata": {
    "ExecuteTime": {
     "end_time": "2019-06-19T19:58:54.398394Z",
     "start_time": "2019-06-19T19:58:54.390568Z"
    }
   },
   "outputs": [
    {
     "name": "stdout",
     "output_type": "stream",
     "text": [
      "760 121 569\n"
     ]
    }
   ],
   "source": [
    "prom = (df[df[\"Rating (Num)\"] >= 9])\n",
    "det = (df[df[\"Rating (Num)\"] <= 6])\n",
    "neut = df[(df['Rating (Num)'] >= 7) & (df['Rating (Num)'] <= 8)]\n",
    "print(len(prom), len(det), len(neut))"
   ]
  },
  {
   "cell_type": "code",
   "execution_count": 192,
   "metadata": {
    "ExecuteTime": {
     "end_time": "2019-06-19T19:58:31.644288Z",
     "start_time": "2019-06-19T19:58:31.640125Z"
    }
   },
   "outputs": [
    {
     "data": {
      "text/plain": [
       "0.4406896551724138"
      ]
     },
     "execution_count": 192,
     "metadata": {},
     "output_type": "execute_result"
    }
   ],
   "source": [
    "(len(prom) - len(det))/(len(prom) + len(det) + len(neut))"
   ]
  },
  {
   "cell_type": "code",
   "execution_count": 196,
   "metadata": {
    "ExecuteTime": {
     "end_time": "2019-06-19T20:01:01.201664Z",
     "start_time": "2019-06-19T20:01:01.197707Z"
    }
   },
   "outputs": [
    {
     "data": {
      "text/plain": [
       "0.4406896551724138"
      ]
     },
     "execution_count": 196,
     "metadata": {},
     "output_type": "execute_result"
    }
   ],
   "source": [
    "nps = (len(prom) - len(det)) / (len(prom) + len(neut) + len(det))\n",
    "nps"
   ]
  },
  {
   "cell_type": "code",
   "execution_count": null,
   "metadata": {},
   "outputs": [],
   "source": [
    "# NPS score for 2017 is 0.44."
   ]
  }
 ],
 "metadata": {
  "kernelspec": {
   "display_name": "Python 3",
   "language": "python",
   "name": "python3"
  },
  "language_info": {
   "codemirror_mode": {
    "name": "ipython",
    "version": 3
   },
   "file_extension": ".py",
   "mimetype": "text/x-python",
   "name": "python",
   "nbconvert_exporter": "python",
   "pygments_lexer": "ipython3",
   "version": "3.7.3"
  },
  "toc": {
   "base_numbering": 1,
   "nav_menu": {},
   "number_sections": true,
   "sideBar": true,
   "skip_h1_title": false,
   "title_cell": "Table of Contents",
   "title_sidebar": "Contents",
   "toc_cell": false,
   "toc_position": {},
   "toc_section_display": true,
   "toc_window_display": false
  },
  "varInspector": {
   "cols": {
    "lenName": 16,
    "lenType": 16,
    "lenVar": 40
   },
   "kernels_config": {
    "python": {
     "delete_cmd_postfix": "",
     "delete_cmd_prefix": "del ",
     "library": "var_list.py",
     "varRefreshCmd": "print(var_dic_list())"
    },
    "r": {
     "delete_cmd_postfix": ") ",
     "delete_cmd_prefix": "rm(",
     "library": "var_list.r",
     "varRefreshCmd": "cat(var_dic_list()) "
    }
   },
   "types_to_exclude": [
    "module",
    "function",
    "builtin_function_or_method",
    "instance",
    "_Feature"
   ],
   "window_display": false
  }
 },
 "nbformat": 4,
 "nbformat_minor": 2
}
